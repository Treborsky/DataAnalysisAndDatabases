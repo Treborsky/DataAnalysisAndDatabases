{
 "cells": [
  {
   "cell_type": "markdown",
   "metadata": {},
   "source": [
    "# AiBD Laboratorium 1\n",
    "ZajĂ„â„˘cia z analizy i bazy danych"
   ]
  },
  {
   "cell_type": "markdown",
   "metadata": {},
   "source": [
    "## Zadanie 3\n",
    "Matplotlib - pyplot, rysowanie wykresÄ‚Ĺ‚w z etykietami osi, tytuÄąâ€šem i legendĂ„â€¦."
   ]
  },
  {
   "cell_type": "code",
   "execution_count": null,
   "metadata": {},
   "outputs": [],
   "source": [
    "import numpy as np\n",
    "from matplotlib import pyplot as plt"
   ]
  },
  {
   "cell_type": "code",
   "execution_count": null,
   "metadata": {},
   "outputs": [],
   "source": [
    "func = lambda x : x**2 + 5\n",
    "sets = [\n",
    "    np.linspace(-1, 1),\n",
    "    np.linspace(-6, 6),\n",
    "    np.linspace(0, 5)\n",
    "]"
   ]
  },
  {
   "cell_type": "code",
   "execution_count": null,
   "metadata": {},
   "outputs": [],
   "source": [
    "f, axis = plt.subplots(3, 1, figsize=(10, 20))\n",
    "for i, ax in enumerate(axis[:]):\n",
    "    ax.plot(sets[i], func(sets[i]), label=r'${f(x) = x^2 + 5}$')\n",
    "    ax.set_xlim(left=min(sets[i]), right=max(sets[i]))\n",
    "    ax.set_title(f'f(x) plot for x in ({min(sets[i])} : {max(sets[i])})')\n",
    "    ax.set_xlabel('x')\n",
    "    ax.set_ylabel('f(x)')\n",
    "    _ = ax.legend()"
   ]
  },
  {
   "cell_type": "markdown",
   "metadata": {},
   "source": [
    "1. plot() - rysowanie\n",
    "2. set_xlim() - ograniczenia na osi x\n",
    "3. set_xlabel() i set_ylabel() - etykieta osi x i y\n",
    "4. legend() - automatycznie generowana legenda"
   ]
  },
  {
   "cell_type": "markdown",
   "metadata": {},
   "source": [
    "## Zadanie 4\n",
    "WstĂ„â„˘p do Pandas - tworzenie Dataframe"
   ]
  },
  {
   "cell_type": "code",
   "execution_count": null,
   "metadata": {},
   "outputs": [],
   "source": [
    "import pandas as pd\n",
    "from dataclasses import make_dataclass # using data classes, not necessary, I think it's cleaner\n",
    "import enum\n",
    "\n",
    "class Sex(enum.Enum):\n",
    "    Male = 1,\n",
    "    Female = 2\n",
    "\n",
    "    def __str__(self):\n",
    "        return self.name\n",
    "\n",
    "Person = make_dataclass(\"Person\", [\n",
    "    ('Name', str),\n",
    "    ('Surname', str),\n",
    "    ('Age', int),\n",
    "    ('Sex', Sex)\n",
    "])\n",
    "\n",
    "df = pd.DataFrame([\n",
    "    Person('Sushil', 'Oz', 25, Sex.Male),\n",
    "    Person('Nydia', 'Asamil', 52, Sex.Female),\n",
    "    Person('Yama', 'Ramazan', 15, Sex.Male),\n",
    "    Person('Olexiy', 'Engilram', 18, Sex.Male),\n",
    "    Person('Karmen', 'Genitus', 99, Sex.Female)\n",
    "])\n",
    "\n",
    "# you can display either by typing the name of the variable containing the DataFrame,\n",
    "# or by printing, but vs code formats the non-print output better\n",
    "df"
   ]
  },
  {
   "cell_type": "code",
   "execution_count": null,
   "metadata": {},
   "outputs": [],
   "source": [
    "df.info"
   ]
  },
  {
   "cell_type": "code",
   "execution_count": null,
   "metadata": {},
   "outputs": [],
   "source": [
    "df.describe"
   ]
  },
  {
   "cell_type": "code",
   "execution_count": null,
   "metadata": {},
   "outputs": [],
   "source": [
    "df.head(3)"
   ]
  }
 ],
 "metadata": {
  "interpreter": {
   "hash": "9e8c4cf3289a021cec4bb4dc9e87591b31bc8f559f30877cf99e4d3bd534aabd"
  },
  "kernelspec": {
   "display_name": "Python 3.9.4 64-bit ('RobertKoziarski': venv)",
   "name": "python3"
  },
  "language_info": {
   "codemirror_mode": {
    "name": "ipython",
    "version": 3
   },
   "file_extension": ".py",
   "mimetype": "text/x-python",
   "name": "python",
   "nbconvert_exporter": "python",
   "pygments_lexer": "ipython3",
   "version": "3.9.4"
  }
 },
 "nbformat": 4,
 "nbformat_minor": 2
}
