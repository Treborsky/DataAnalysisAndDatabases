{
 "cells": [
  {
   "cell_type": "markdown",
   "metadata": {},
   "source": [
    "# Presentation of earthquake concerns data\n",
    "\n",
    "## Contents:\n",
    "1. imports\n",
    "2. preprocessing\n",
    "3. calculation\n",
    "4. graphical presentation"
   ]
  },
  {
   "cell_type": "code",
   "execution_count": null,
   "metadata": {},
   "outputs": [],
   "source": [
    "from matplotlib import pyplot as plt\n",
    "import pandas as pd\n",
    "import os\n",
    "\n",
    "# if process_data.py hasn't been run yet, run it (based on the existance of the .csv file)\n",
    "if 'selected_earthquake_data.csv' not in list(os.listdir('../AnalysisData')):\n",
    "    os.system('python process_data.py')\n",
    "\n",
    "processed_data = pd.read_csv('../AnalysisData/selected_earthquake_data.csv') # we made sure it exsists\n",
    "\n",
    "processed_data"
   ]
  },
  {
   "cell_type": "code",
   "execution_count": null,
   "metadata": {},
   "outputs": [],
   "source": [
    "f, ax = plt.subplots(nrows=3, ncols=1, figsize=(5, 15))\n",
    "ax[0].hist(processed_data.Gender, bins=2), ax[0].set_title('Gender distribution')\n",
    "ax[1].hist(processed_data.AgeRange, bins=4), ax[1].set_title('Age ranges')\n",
    "_ = ax[2].hist(processed_data.BigOneInLifetimePred, bins=2), ax[2].set_title('Answer to: \"Do you think the Big One will happen in your lifetime?\"')"
   ]
  }
 ],
 "metadata": {
  "interpreter": {
   "hash": "9e8c4cf3289a021cec4bb4dc9e87591b31bc8f559f30877cf99e4d3bd534aabd"
  },
  "kernelspec": {
   "display_name": "Python 3.9.4 64-bit ('RobertKoziarski': venv)",
   "name": "python3"
  },
  "language_info": {
   "codemirror_mode": {
    "name": "ipython",
    "version": 3
   },
   "file_extension": ".py",
   "mimetype": "text/x-python",
   "name": "python",
   "nbconvert_exporter": "python",
   "pygments_lexer": "ipython3",
   "version": "3.9.4"
  }
 },
 "nbformat": 4,
 "nbformat_minor": 2
}
